{
 "cells": [
  {
   "cell_type": "markdown",
   "metadata": {},
   "source": [
    "# Predicting outbreaks of WNV in mosquitoes\n",
    "\n",
    "Qiaolin Chen, Ph.D. Aug 2017\n",
    "### Problem Description \n",
    "(from https://www.kaggle.com/c/predict-west-nile-virus)\n",
    "West Nile virus (WNV) is most commonly spread to humans through infected mosquitoes. Around 20% of people who become infected with the virus develop symptoms ranging from a persistent fever, to serious neurological illnesses that can result in death.\n",
    "\n",
    "In 2002, the first human cases of WNV were reported in Chicago. By 2004 the City of Chicago and the Chicago Department of Public Health (CDPH) had established a comprehensive surveillance and control program that is still in effect today.\n",
    "\n",
    "Every week from late spring through the fall, mosquitoes in traps across the city are tested for the virus. The results of these tests influence when and where the city will spray airborne pesticides to control adult mosquito populations.\n",
    "\n",
    "Given weather, location, testing, and spraying data, this competition asks you to predict when and where different species of mosquitos will test positive for WNV. A more accurate method of predicting outbreaks of WNV in mosquitoes will help the City of Chicago and CDPH more efficiently and effectively allocate resources towards preventing transmission of this potentially deadly virus.\n",
    "\n",
    "\n",
    "### Data\n",
    "The relevant data for this challenge can be downloaded here: https://www.kaggle.com/c/predict-west-nile-virus/data\n",
    "\n",
    "This exercise requires you to clean the dataset, engineer features, develop one or more predictive models, and present your results. We would like you to orient your analysis around one or more of the following:\n",
    " \n",
    "* Be prepared to discuss how predictive modeling could be used to inform actions that the City of Chicago might take. Does your model suggest any preventative actions?\n",
    "* If we are interested in understanding the factors that are related to / predictive of the spread of WNV, what modeling choices / evaluation metrics would be most appropriate?\n",
    "* What additional data might be relevant for understanding this problem?\n",
    "* Are there any lessons for future data collection efforts?\n",
    "* What weather conditions would we expect to impact mosquito populations? How would you investigate this using this data?\n",
    " \n",
    "You should use your time to explore the data, construct and/or select features, and use those features in one or more predictive models. We suggest following an iterative approach, establishing an initial baseline of performance upon which subsequent efforts can build.\n",
    " "
   ]
  },
  {
   "cell_type": "code",
   "execution_count": null,
   "metadata": {
    "collapsed": true
   },
   "outputs": [],
   "source": []
  }
 ],
 "metadata": {
  "kernelspec": {
   "display_name": "Python 3",
   "language": "python",
   "name": "python3"
  },
  "language_info": {
   "codemirror_mode": {
    "name": "ipython",
    "version": 3
   },
   "file_extension": ".py",
   "mimetype": "text/x-python",
   "name": "python",
   "nbconvert_exporter": "python",
   "pygments_lexer": "ipython3",
   "version": "3.5.3"
  }
 },
 "nbformat": 4,
 "nbformat_minor": 2
}
